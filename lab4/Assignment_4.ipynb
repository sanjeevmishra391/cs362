{
  "nbformat": 4,
  "nbformat_minor": 0,
  "metadata": {
    "colab": {
      "name": "Assignment 4.ipynb",
      "provenance": [],
      "collapsed_sections": []
    },
    "kernelspec": {
      "name": "python3",
      "display_name": "Python 3"
    }
  },
  "cells": [
    {
      "cell_type": "code",
      "metadata": {
        "id": "QkR2a69B6MRz"
      },
      "source": [
        "import numpy as np\r\n",
        "import math"
      ],
      "execution_count": 1,
      "outputs": []
    },
    {
      "cell_type": "code",
      "metadata": {
        "id": "LiGuxBgOafzH"
      },
      "source": [
        "def updateCurrentState(currentState,move,position):\r\n",
        "  # this func will return updated state\r\n",
        "  state=currentState.copy()\r\n",
        "  state[position]=move\r\n",
        "  return state"
      ],
      "execution_count": 2,
      "outputs": []
    },
    {
      "cell_type": "code",
      "metadata": {
        "id": "Blkt3SnZLaDY"
      },
      "source": [
        "# Check if Player 1 wins return +10\r\n",
        "# Check if Player 2 wins return -10\r\n",
        "# Check if it is draw return 0\r\n",
        "# otherwise return -1\r\n",
        "\r\n",
        "def isGameOver(currentState,evaluatedNodes):\r\n",
        "  state=currentState.copy()\r\n",
        "\r\n",
        "  # check for Horizontal win\r\n",
        "  for i in range(0,7,3) :\r\n",
        "    if (state[i] == state[i + 1] == state[i + 2]):\r\n",
        "      if (state[i]=='X'):\r\n",
        "        return 10,evaluatedNodes+1\r\n",
        "      elif (state[i]=='O'):\r\n",
        "        return -10,evaluatedNodes+1\r\n",
        "\r\n",
        "  # check vertical win\r\n",
        "  for i in range(0,3):\r\n",
        "    if (state[i] == state[i + 3] == state[i + 6]):\r\n",
        "      if (state[i]=='X'):\r\n",
        "        return 10,evaluatedNodes+1\r\n",
        "      elif (state[i]=='O'):\r\n",
        "        return -10,evaluatedNodes+1\r\n",
        "\r\n",
        "  #check diagonal win\r\n",
        "  if (state[0] == state[4] == state[8]) :\r\n",
        "    if (state[0]=='X'):\r\n",
        "        return 10,evaluatedNodes+1\r\n",
        "    elif (state[0]=='O'):\r\n",
        "        return -10,evaluatedNodes+1\r\n",
        "  if (state[2] == state[4] == state[6]):\r\n",
        "    if ( state[2]=='X'):\r\n",
        "        return 10,evaluatedNodes+1\r\n",
        "    elif (state[2]=='O'):\r\n",
        "        return -10,evaluatedNodes+1\r\n",
        "\r\n",
        "  # Check if it is a draw\r\n",
        "  if len(getEmptySpaces(state)) == 0:\r\n",
        "    return 0,evaluatedNodes+1\r\n",
        "\r\n",
        "  return -1,evaluatedNodes+1\r\n",
        "    \r\n"
      ],
      "execution_count": 3,
      "outputs": []
    },
    {
      "cell_type": "code",
      "metadata": {
        "id": "HFtQ3T34Xdko"
      },
      "source": [
        "def getEmptySpaces(currentState):\r\n",
        "  count=[]\r\n",
        "  for i in range(len(currentState)):\r\n",
        "    if currentState[i] == ' ':\r\n",
        "      count.append(i)\r\n",
        "  return np.array(count)\r\n"
      ],
      "execution_count": 4,
      "outputs": []
    },
    {
      "cell_type": "code",
      "metadata": {
        "id": "ws7qJW9gKgJE"
      },
      "source": [
        "def minmax(depth ,maximizingPlay ,currentState,parentIndex,evaluatedNodes):\r\n",
        "  move = 'X' if maximizingPlay else 'O'\r\n",
        "  moveScore,evaluatedNodes=isGameOver(currentState,evaluatedNodes)\r\n",
        "  # if moveScore == 10 or moveScore==-10 :\r\n",
        "  #   print(currentState.reshape(3,3))\r\n",
        "  if depth == 0 or moveScore != -1:\r\n",
        "    # return some static value \r\n",
        "    return [moveScore,currentState,evaluatedNodes]\r\n",
        "  # Player 1's move\r\n",
        "  if maximizingPlay :\r\n",
        "    maxEval = -math.inf\r\n",
        "    # get empty indices from the current state\r\n",
        "    emptyIndices=getEmptySpaces(currentState)\r\n",
        "    best = None\r\n",
        "    for i in emptyIndices:\r\n",
        "      updatedState = updateCurrentState(currentState,move,i)\r\n",
        "      eval,bestTemp,evaluatedNodes=minmax(depth-1,False,updatedState,i,evaluatedNodes)\r\n",
        "      maxEval=max(maxEval,eval)\r\n",
        "      best = bestTemp if maxEval == eval else best\r\n",
        "    return [maxEval,best,evaluatedNodes]\r\n",
        "  else:\r\n",
        "    minEval = math.inf\r\n",
        "    # get empty indices from the current state\r\n",
        "    emptyIndices=getEmptySpaces(currentState)\r\n",
        "    best = None\r\n",
        "    for i in emptyIndices:\r\n",
        "      updatedState = updateCurrentState(currentState,move,i)\r\n",
        "      eval,bestTemp,evaluatedNodes=minmax(depth-1,True,updatedState,i,evaluatedNodes)\r\n",
        "      minEval=min(minEval,eval)\r\n",
        "      best = bestTemp if minEval == eval else best\r\n",
        "    return [minEval,best,evaluatedNodes]"
      ],
      "execution_count": 5,
      "outputs": []
    },
    {
      "cell_type": "code",
      "metadata": {
        "id": "_SHooKHBbzKE"
      },
      "source": [
        "def alphaBetaPruning(depth ,maximizingPlay,alpha,beta ,currentState,parentNode,evaluatedNodes):\r\n",
        "  move = 'X' if maximizingPlay else 'O'\r\n",
        "  moveScore,evaluatedNodes=isGameOver(currentState,evaluatedNodes)\r\n",
        "  # if moveScore == 10 or moveScore==-10 :\r\n",
        "  #   print(currentState.reshape(3,3))\r\n",
        "  if depth == 0 or moveScore != -1:\r\n",
        "    # return some static value \r\n",
        "    return [moveScore,evaluatedNodes]\r\n",
        "  # Player 1's move\r\n",
        "  if maximizingPlay :\r\n",
        "    maxEval = -math.inf\r\n",
        "    # get empty indices from the current state\r\n",
        "    emptyIndices=getEmptySpaces(currentState)\r\n",
        "    for i in emptyIndices:\r\n",
        "      updatedState = updateCurrentState(currentState,move,i)\r\n",
        "      eval,evaluatedNodes=alphaBetaPruning(depth-1,False,alpha,beta ,updatedState,i,evaluatedNodes)\r\n",
        "      maxEval=max(maxEval,eval)\r\n",
        "      alpha=max(alpha,eval)\r\n",
        "      if (beta<=alpha):\r\n",
        "        break\r\n",
        "    return [maxEval,evaluatedNodes]\r\n",
        "  else:\r\n",
        "    minEval = math.inf\r\n",
        "    # get empty indices from the current state\r\n",
        "    emptyIndices=getEmptySpaces(currentState)\r\n",
        "    for i in emptyIndices:\r\n",
        "      updatedState = updateCurrentState(currentState,move,i)\r\n",
        "      eval,evaluatedNodes=alphaBetaPruning(depth-1,True,alpha,beta ,updatedState,i,evaluatedNodes)\r\n",
        "      minEval=min(minEval,eval)\r\n",
        "      beta=min(beta,eval)\r\n",
        "      if (beta<=alpha):\r\n",
        "        break\r\n",
        "    return [minEval,evaluatedNodes]"
      ],
      "execution_count": 6,
      "outputs": []
    },
    {
      "cell_type": "markdown",
      "metadata": {
        "id": "6dDP-C0FFGne"
      },
      "source": [
        "Below is our Main driver\r\n",
        "\r\n",
        "here points refer to win, loss, draw state attained from inital state.\r\n",
        "\r\n",
        "board is the final board generated from the initial state.\r\n",
        "\r\n",
        "evaluatedNodes is the number of times board state is tested for game over situation or the number of times minmax function is being called.\r\n",
        "\r\n",
        "pointABP is similar point table for Alpha beta pruining.\r\n",
        "\r\n",
        "evaluatedNodesABP is similar node evaluation for Alpha beta pruining.\r\n",
        "\r\n",
        "\r\n",
        "Assumptions made : \r\n",
        "\r\n",
        "if maximizing the situation means it is X's turn else it is O's turn.\r\n",
        "\r\n",
        "\r\n",
        "**Inputs for MinMax func = > depth, maximizing, initial state of board, parentNode, evaluatedNodes**\r\n",
        "\r\n",
        "\r\n",
        "**Inputs for AplhaBetaPruining func = > depth, maximizing,alpha, beta, initial state of board, parentNode, evaluatedNodes**\r\n",
        "\r\n"
      ]
    },
    {
      "cell_type": "code",
      "metadata": {
        "id": "OIXCwIv_Xcut",
        "colab": {
          "base_uri": "https://localhost:8080/"
        },
        "outputId": "ca8c1ffd-29da-433b-99d1-74da8a7edf3c"
      },
      "source": [
        "InitialState=np.array([' ',' ',' ',' ',' ',' ',' ',' ',' '])\r\n",
        "\r\n",
        "points,board,evaluatedNodes=minmax(9,True,InitialState,None,0)\r\n",
        "\r\n",
        "pointABP,evaluatedNodesABP=alphaBetaPruning(9,True,-math.inf,math.inf,InitialState,None,0)\r\n",
        "print(\"Minimax : \")\r\n",
        "print(points,board.reshape(3,3),\"\\n Evaluated Nodes = \",evaluatedNodes)\r\n",
        "print(\"Alpha Beta Pruining : \")\r\n",
        "print(pointABP,\"\\n Evaluated Nodes = \",evaluatedNodesABP)\r\n"
      ],
      "execution_count": 7,
      "outputs": [
        {
          "output_type": "stream",
          "text": [
            "Minimax : \n",
            "0 [['X' 'O' 'X']\n",
            " ['X' 'O' 'O']\n",
            " ['O' 'X' 'X']] \n",
            " Evaluated Nodes =  549946\n",
            "Alpha Beta Pruining : \n",
            "0 \n",
            " Evaluated Nodes =  18297\n"
          ],
          "name": "stdout"
        }
      ]
    },
    {
      "cell_type": "code",
      "metadata": {
        "id": "7G8GEuiWGAUh"
      },
      "source": [
        ""
      ],
      "execution_count": 7,
      "outputs": []
    }
  ]
}